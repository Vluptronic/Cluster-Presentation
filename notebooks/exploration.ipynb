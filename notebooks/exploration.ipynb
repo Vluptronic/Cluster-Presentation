{
 "cells": [
  {
   "cell_type": "markdown",
   "id": "98ea0907c70081d6",
   "metadata": {},
   "source": [
    "# Homework 3 - Unsupervised Learning and Writing a Data Science Report\n",
    "\n",
    "Authors: Dylan Cashman and Binyamin Friedman\n",
    "\n",
    "## Notebook Exploration\n",
    "#### a) Data Distributions (10 points)\n",
    "Do the following preliminary data exploration steps:\n",
    "1. Load the data into a dataframe. Visualize each of the numerical attributes as a histogram.  Do you have any conclusions about the different numerical attributes? \n",
    "2. Then, create a line chart, where the x-axis is the date field, and each of the numerical attributes are lines. Again, do you have any conclusions about the different numerical attributes? Does the line chart as a whole tell you anything? Can you correlate the data with any specific world events?\n",
    "\n",
    "Notes:\n",
    "- Pandas can easily parse date field into actual date objects with the parse_dates parameter\n",
    "- You can use the hist() method of a dataframe to create histograms\n",
    "- You can use resample() to bin the data to a greater time interval (e.g. 'ME' for month, 'YE' for year), which could be useful for the line chart (since otherwise it might be too dense to read)\n"
   ]
  },
  {
   "cell_type": "code",
   "id": "initial_id",
   "metadata": {
    "ExecuteTime": {
     "end_time": "2025-03-16T19:36:58.438645Z",
     "start_time": "2025-03-16T19:36:58.436570Z"
    }
   },
   "source": [
    "import matplotlib.pyplot as plt\n",
    "import pandas as pd\n",
    "\n",
    "# Solution here\n"
   ],
   "outputs": [],
   "execution_count": 4
  },
  {
   "cell_type": "markdown",
   "id": "d21158a55aeaedc",
   "metadata": {},
   "source": [
    "*Explanation here*\n",
    "\n"
   ]
  },
  {
   "cell_type": "markdown",
   "id": "54e2659f7f8854ea",
   "metadata": {},
   "source": [
    "#### b) Correlation (25 points)\n",
    "We'd like a more powerful way of visualizing the whole dataset. We will create scatterplots of the dataset for each of the following projection techniques,\n",
    "1. [PCA](https://scikit-learn.org/stable/modules/generated/sklearn.decomposition.PCA.html) (Principal Component Analysis)\n",
    "2. [MDS](https://scikit-learn.org/stable/modules/generated/sklearn.manifold.MDS.html) (Multi-Dimensional Scaling)\n",
    "3. [tSNE](https://scikit-learn.org/stable/modules/generated/sklearn.manifold.TSNE.html) (t-distributed Stochastic Neighbor Embedding)\n",
    "\n",
    "Do the three projections show you anything? Do you feel like one is stronger than the other?\n",
    "\n",
    "Notes:\n",
    "- Remove the date field from the dataset before running the projections\n",
    "- For tSNE, try different settings of the `perplexity` argument to see if you can get a projection that makes the most sense of the data\n",
    "- For MDS, you will need to sample a fraction of the data, as it will take too long otherwise.\n"
   ]
  },
  {
   "cell_type": "code",
   "id": "17c17680d8e38fe9",
   "metadata": {
    "ExecuteTime": {
     "end_time": "2025-03-14T20:05:59.157736Z",
     "start_time": "2025-03-14T20:05:59.133771Z"
    }
   },
   "source": "# PCA projection\n",
   "outputs": [],
   "execution_count": 1
  },
  {
   "cell_type": "code",
   "id": "53b89d0bc7a03a59",
   "metadata": {
    "ExecuteTime": {
     "end_time": "2025-03-14T20:06:35.677890Z",
     "start_time": "2025-03-14T20:06:35.675991Z"
    }
   },
   "source": "# MDS Projection",
   "outputs": [],
   "execution_count": 3
  },
  {
   "cell_type": "code",
   "id": "c84a502f5de1b97e",
   "metadata": {
    "ExecuteTime": {
     "end_time": "2025-03-14T20:06:15.374808Z",
     "start_time": "2025-03-14T20:06:15.373016Z"
    }
   },
   "source": "#TSNE projection",
   "outputs": [],
   "execution_count": 2
  },
  {
   "cell_type": "markdown",
   "id": "d42412625a0e883f",
   "metadata": {},
   "source": [
    "*Explanation here*\n",
    "\n"
   ]
  },
  {
   "cell_type": "markdown",
   "id": "6d6a02b95726479f",
   "metadata": {},
   "source": [
    "#### c) Clustering (25 points)\n",
    "\n",
    "Given one of our projections, we'd like a principled way of identifying clusters in the data (if there are any). We will use the following clustering algorithms:\n",
    "- [KMeans `sklearn.cluster.k_means`](https://scikit-learn.org/stable/modules/generated/sklearn.cluster.k_means.html)\n",
    "- [DBSCAN `sklearn.cluster.dbscan`](https://scikit-learn.org/stable/modules/generated/dbscan-function.html)\n",
    "- [DBSCAN `sklearn.cluster.dbscan`](https://scikit-learn.org/stable/modules/generated/dbscan-function.html) with `metric='manhattan'`\n",
    "\n",
    "For each of these clusterings, use your favorite projection from the previous section, and color the points by the cluster they belong to. What do you notice about the clusters? Are they meaningful?\n",
    "\n",
    "Notes:\n",
    "- For kMeans, choose a number of clusters that you think makes sense for the data\n",
    "- `metric='manhattan'` uses a different distance function which may be more appropriate for high-dimensional data (if you're curious, you can read more about it [here](https://en.wikipedia.org/wiki/Taxicab_geometry))"
   ]
  },
  {
   "cell_type": "code",
   "id": "d3a8664613c6bc6c",
   "metadata": {
    "ExecuteTime": {
     "end_time": "2025-03-14T20:07:02.944119Z",
     "start_time": "2025-03-14T20:07:02.941369Z"
    }
   },
   "source": "# Solution here\n",
   "outputs": [],
   "execution_count": 4
  },
  {
   "cell_type": "markdown",
   "id": "76dd3f59a8dca093",
   "metadata": {},
   "source": [
    "*Explanation here*\n",
    "\n"
   ]
  },
  {
   "cell_type": "markdown",
   "id": "94a8e578c83811bb",
   "metadata": {},
   "source": [
    "#### d) Explaining Clusters (10 points)\n",
    "Both kMeans and DBSCAN provide exemplar points that help define a cluster. For KMeans, this is the `centroid`, and for DBSCAN, this is the `core_samples`. For each of the three methods above, create a table showing either the cluster centroids or the core samples, and their values for the 25 numeric features. What are the features that differentiate between clusters?"
   ]
  },
  {
   "cell_type": "code",
   "id": "b0e32b77e456aef3",
   "metadata": {
    "ExecuteTime": {
     "end_time": "2025-03-14T20:07:13.916370Z",
     "start_time": "2025-03-14T20:07:13.914429Z"
    }
   },
   "source": [
    "# Solution here\n",
    "\n"
   ],
   "outputs": [],
   "execution_count": 5
  },
  {
   "cell_type": "markdown",
   "id": "f778d9650a7679fd",
   "metadata": {},
   "source": [
    "*Explanation here*\n",
    "\n"
   ]
  },
  {
   "metadata": {},
   "cell_type": "markdown",
   "source": [
    "#### e) Porting code and creating your presentation\n",
    "\n",
    "Please follow the rest of the instructions in the README - you should be porting your clustering, projections, and visualization code into the appropriate files so that the following line\n",
    "\n",
    "    python visualizations.py\n",
    "\n",
    "generates the visualizations that you use in your presentation."
   ],
   "id": "b03941c54905b716"
  },
  {
   "metadata": {},
   "cell_type": "code",
   "outputs": [],
   "execution_count": null,
   "source": "",
   "id": "5d19685a67f498b1"
  }
 ],
 "metadata": {
  "kernelspec": {
   "display_name": "Python 3 (ipykernel)",
   "language": "python",
   "name": "python3"
  },
  "language_info": {
   "codemirror_mode": {
    "name": "ipython",
    "version": 3
   },
   "file_extension": ".py",
   "mimetype": "text/x-python",
   "name": "python",
   "nbconvert_exporter": "python",
   "pygments_lexer": "ipython3",
   "version": "3.8.10"
  }
 },
 "nbformat": 4,
 "nbformat_minor": 5
}
